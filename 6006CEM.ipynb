{
 "cells": [
  {
   "cell_type": "code",
   "execution_count": 39,
   "id": "5ad3f8ae-2b1e-4184-8cda-38321d43fa14",
   "metadata": {},
   "outputs": [
    {
     "data": {
      "text/html": [
       "<div>\n",
       "<style scoped>\n",
       "    .dataframe tbody tr th:only-of-type {\n",
       "        vertical-align: middle;\n",
       "    }\n",
       "\n",
       "    .dataframe tbody tr th {\n",
       "        vertical-align: top;\n",
       "    }\n",
       "\n",
       "    .dataframe thead th {\n",
       "        text-align: right;\n",
       "    }\n",
       "</style>\n",
       "<table border=\"1\" class=\"dataframe\">\n",
       "  <thead>\n",
       "    <tr style=\"text-align: right;\">\n",
       "      <th></th>\n",
       "      <th>index</th>\n",
       "      <th>PatientID</th>\n",
       "      <th>age</th>\n",
       "      <th>gender</th>\n",
       "      <th>bmi</th>\n",
       "      <th>bloodpressure</th>\n",
       "      <th>diabetic</th>\n",
       "      <th>children</th>\n",
       "      <th>smoker</th>\n",
       "      <th>region</th>\n",
       "      <th>claim</th>\n",
       "    </tr>\n",
       "  </thead>\n",
       "  <tbody>\n",
       "    <tr>\n",
       "      <th>0</th>\n",
       "      <td>0</td>\n",
       "      <td>1</td>\n",
       "      <td>39.0</td>\n",
       "      <td>male</td>\n",
       "      <td>23.2</td>\n",
       "      <td>91</td>\n",
       "      <td>Yes</td>\n",
       "      <td>0</td>\n",
       "      <td>No</td>\n",
       "      <td>southeast</td>\n",
       "      <td>1121.87</td>\n",
       "    </tr>\n",
       "    <tr>\n",
       "      <th>1</th>\n",
       "      <td>1</td>\n",
       "      <td>2</td>\n",
       "      <td>24.0</td>\n",
       "      <td>male</td>\n",
       "      <td>30.1</td>\n",
       "      <td>87</td>\n",
       "      <td>No</td>\n",
       "      <td>0</td>\n",
       "      <td>No</td>\n",
       "      <td>southeast</td>\n",
       "      <td>1131.51</td>\n",
       "    </tr>\n",
       "    <tr>\n",
       "      <th>2</th>\n",
       "      <td>2</td>\n",
       "      <td>3</td>\n",
       "      <td>NaN</td>\n",
       "      <td>male</td>\n",
       "      <td>33.3</td>\n",
       "      <td>82</td>\n",
       "      <td>Yes</td>\n",
       "      <td>0</td>\n",
       "      <td>No</td>\n",
       "      <td>southeast</td>\n",
       "      <td>1135.94</td>\n",
       "    </tr>\n",
       "    <tr>\n",
       "      <th>3</th>\n",
       "      <td>3</td>\n",
       "      <td>4</td>\n",
       "      <td>NaN</td>\n",
       "      <td>male</td>\n",
       "      <td>33.7</td>\n",
       "      <td>80</td>\n",
       "      <td>No</td>\n",
       "      <td>0</td>\n",
       "      <td>No</td>\n",
       "      <td>northwest</td>\n",
       "      <td>1136.40</td>\n",
       "    </tr>\n",
       "    <tr>\n",
       "      <th>4</th>\n",
       "      <td>4</td>\n",
       "      <td>5</td>\n",
       "      <td>NaN</td>\n",
       "      <td>male</td>\n",
       "      <td>34.1</td>\n",
       "      <td>100</td>\n",
       "      <td>No</td>\n",
       "      <td>0</td>\n",
       "      <td>No</td>\n",
       "      <td>northwest</td>\n",
       "      <td>1137.01</td>\n",
       "    </tr>\n",
       "  </tbody>\n",
       "</table>\n",
       "</div>"
      ],
      "text/plain": [
       "   index  PatientID   age gender   bmi  bloodpressure diabetic  children  \\\n",
       "0      0          1  39.0   male  23.2             91      Yes         0   \n",
       "1      1          2  24.0   male  30.1             87       No         0   \n",
       "2      2          3   NaN   male  33.3             82      Yes         0   \n",
       "3      3          4   NaN   male  33.7             80       No         0   \n",
       "4      4          5   NaN   male  34.1            100       No         0   \n",
       "\n",
       "  smoker     region    claim  \n",
       "0     No  southeast  1121.87  \n",
       "1     No  southeast  1131.51  \n",
       "2     No  southeast  1135.94  \n",
       "3     No  northwest  1136.40  \n",
       "4     No  northwest  1137.01  "
      ]
     },
     "execution_count": 39,
     "metadata": {},
     "output_type": "execute_result"
    }
   ],
   "source": [
    "import pandas as pd\n",
    "df = pd.read_csv('insurance_data.csv') #read the dataset\n",
    "df.head() #show dataset"
   ]
  },
  {
   "cell_type": "code",
   "execution_count": 40,
   "id": "ae4743e3-9304-4640-99c0-b41307862888",
   "metadata": {},
   "outputs": [
    {
     "data": {
      "text/html": [
       "<div>\n",
       "<style scoped>\n",
       "    .dataframe tbody tr th:only-of-type {\n",
       "        vertical-align: middle;\n",
       "    }\n",
       "\n",
       "    .dataframe tbody tr th {\n",
       "        vertical-align: top;\n",
       "    }\n",
       "\n",
       "    .dataframe thead th {\n",
       "        text-align: right;\n",
       "    }\n",
       "</style>\n",
       "<table border=\"1\" class=\"dataframe\">\n",
       "  <thead>\n",
       "    <tr style=\"text-align: right;\">\n",
       "      <th></th>\n",
       "      <th>age</th>\n",
       "      <th>gender</th>\n",
       "      <th>bmi</th>\n",
       "      <th>bloodpressure</th>\n",
       "      <th>diabetic</th>\n",
       "      <th>children</th>\n",
       "      <th>smoker</th>\n",
       "      <th>region</th>\n",
       "      <th>claim</th>\n",
       "    </tr>\n",
       "  </thead>\n",
       "  <tbody>\n",
       "    <tr>\n",
       "      <th>0</th>\n",
       "      <td>39.0</td>\n",
       "      <td>male</td>\n",
       "      <td>23.2</td>\n",
       "      <td>91</td>\n",
       "      <td>Yes</td>\n",
       "      <td>0</td>\n",
       "      <td>No</td>\n",
       "      <td>southeast</td>\n",
       "      <td>1121.87</td>\n",
       "    </tr>\n",
       "    <tr>\n",
       "      <th>1</th>\n",
       "      <td>24.0</td>\n",
       "      <td>male</td>\n",
       "      <td>30.1</td>\n",
       "      <td>87</td>\n",
       "      <td>No</td>\n",
       "      <td>0</td>\n",
       "      <td>No</td>\n",
       "      <td>southeast</td>\n",
       "      <td>1131.51</td>\n",
       "    </tr>\n",
       "    <tr>\n",
       "      <th>2</th>\n",
       "      <td>NaN</td>\n",
       "      <td>male</td>\n",
       "      <td>33.3</td>\n",
       "      <td>82</td>\n",
       "      <td>Yes</td>\n",
       "      <td>0</td>\n",
       "      <td>No</td>\n",
       "      <td>southeast</td>\n",
       "      <td>1135.94</td>\n",
       "    </tr>\n",
       "    <tr>\n",
       "      <th>3</th>\n",
       "      <td>NaN</td>\n",
       "      <td>male</td>\n",
       "      <td>33.7</td>\n",
       "      <td>80</td>\n",
       "      <td>No</td>\n",
       "      <td>0</td>\n",
       "      <td>No</td>\n",
       "      <td>northwest</td>\n",
       "      <td>1136.40</td>\n",
       "    </tr>\n",
       "    <tr>\n",
       "      <th>4</th>\n",
       "      <td>NaN</td>\n",
       "      <td>male</td>\n",
       "      <td>34.1</td>\n",
       "      <td>100</td>\n",
       "      <td>No</td>\n",
       "      <td>0</td>\n",
       "      <td>No</td>\n",
       "      <td>northwest</td>\n",
       "      <td>1137.01</td>\n",
       "    </tr>\n",
       "  </tbody>\n",
       "</table>\n",
       "</div>"
      ],
      "text/plain": [
       "    age gender   bmi  bloodpressure diabetic  children smoker     region  \\\n",
       "0  39.0   male  23.2             91      Yes         0     No  southeast   \n",
       "1  24.0   male  30.1             87       No         0     No  southeast   \n",
       "2   NaN   male  33.3             82      Yes         0     No  southeast   \n",
       "3   NaN   male  33.7             80       No         0     No  northwest   \n",
       "4   NaN   male  34.1            100       No         0     No  northwest   \n",
       "\n",
       "     claim  \n",
       "0  1121.87  \n",
       "1  1131.51  \n",
       "2  1135.94  \n",
       "3  1136.40  \n",
       "4  1137.01  "
      ]
     },
     "execution_count": 40,
     "metadata": {},
     "output_type": "execute_result"
    }
   ],
   "source": [
    "df.drop([\"index\", \"PatientID\"], axis=1, inplace=True) #drop columns that is not used for predictions\n",
    "df.head() #show dataset again"
   ]
  },
  {
   "cell_type": "code",
   "execution_count": 41,
   "id": "00022a98-42ec-4a09-8a52-527023fd6689",
   "metadata": {},
   "outputs": [
    {
     "name": "stdout",
     "output_type": "stream",
     "text": [
      "<class 'pandas.core.frame.DataFrame'>\n",
      "RangeIndex: 1340 entries, 0 to 1339\n",
      "Data columns (total 9 columns):\n",
      " #   Column         Non-Null Count  Dtype  \n",
      "---  ------         --------------  -----  \n",
      " 0   age            1335 non-null   float64\n",
      " 1   gender         1340 non-null   object \n",
      " 2   bmi            1340 non-null   float64\n",
      " 3   bloodpressure  1340 non-null   int64  \n",
      " 4   diabetic       1340 non-null   object \n",
      " 5   children       1340 non-null   int64  \n",
      " 6   smoker         1340 non-null   object \n",
      " 7   region         1337 non-null   object \n",
      " 8   claim          1340 non-null   float64\n",
      "dtypes: float64(3), int64(2), object(4)\n",
      "memory usage: 94.3+ KB\n"
     ]
    }
   ],
   "source": [
    "df.info() #check data types"
   ]
  },
  {
   "cell_type": "code",
   "execution_count": 42,
   "id": "96343167-b41d-439e-be42-490dc25a85b4",
   "metadata": {},
   "outputs": [
    {
     "data": {
      "text/plain": [
       "8"
      ]
     },
     "execution_count": 42,
     "metadata": {},
     "output_type": "execute_result"
    }
   ],
   "source": [
    "df.isnull().sum().sum() #return sum of null values"
   ]
  },
  {
   "cell_type": "code",
   "execution_count": 43,
   "id": "63694a5c-ad2f-4c06-a2c5-c0c75b382464",
   "metadata": {},
   "outputs": [
    {
     "data": {
      "text/plain": [
       "age              5\n",
       "gender           0\n",
       "bmi              0\n",
       "bloodpressure    0\n",
       "diabetic         0\n",
       "children         0\n",
       "smoker           0\n",
       "region           3\n",
       "claim            0\n",
       "dtype: int64"
      ]
     },
     "execution_count": 43,
     "metadata": {},
     "output_type": "execute_result"
    }
   ],
   "source": [
    "df.isnull().sum() #check columns that has null values"
   ]
  },
  {
   "cell_type": "code",
   "execution_count": 44,
   "id": "da50f717-63f1-42d1-b451-0259a0570399",
   "metadata": {},
   "outputs": [
    {
     "data": {
      "text/plain": [
       "38.07865168539326"
      ]
     },
     "execution_count": 44,
     "metadata": {},
     "output_type": "execute_result"
    }
   ],
   "source": [
    "import numpy as np\n",
    "np.mean(df[\"age\"]) #check mean value for age column"
   ]
  },
  {
   "cell_type": "code",
   "execution_count": 45,
   "id": "fcfab8f0-7c1e-47f9-8a3c-73a759e2a1fe",
   "metadata": {},
   "outputs": [
    {
     "data": {
      "text/html": [
       "<div>\n",
       "<style scoped>\n",
       "    .dataframe tbody tr th:only-of-type {\n",
       "        vertical-align: middle;\n",
       "    }\n",
       "\n",
       "    .dataframe tbody tr th {\n",
       "        vertical-align: top;\n",
       "    }\n",
       "\n",
       "    .dataframe thead th {\n",
       "        text-align: right;\n",
       "    }\n",
       "</style>\n",
       "<table border=\"1\" class=\"dataframe\">\n",
       "  <thead>\n",
       "    <tr style=\"text-align: right;\">\n",
       "      <th></th>\n",
       "      <th>age</th>\n",
       "      <th>gender</th>\n",
       "      <th>bmi</th>\n",
       "      <th>bloodpressure</th>\n",
       "      <th>diabetic</th>\n",
       "      <th>children</th>\n",
       "      <th>smoker</th>\n",
       "      <th>region</th>\n",
       "      <th>claim</th>\n",
       "    </tr>\n",
       "  </thead>\n",
       "  <tbody>\n",
       "    <tr>\n",
       "      <th>0</th>\n",
       "      <td>39.000000</td>\n",
       "      <td>male</td>\n",
       "      <td>23.2</td>\n",
       "      <td>91</td>\n",
       "      <td>Yes</td>\n",
       "      <td>0</td>\n",
       "      <td>No</td>\n",
       "      <td>southeast</td>\n",
       "      <td>1121.87</td>\n",
       "    </tr>\n",
       "    <tr>\n",
       "      <th>1</th>\n",
       "      <td>24.000000</td>\n",
       "      <td>male</td>\n",
       "      <td>30.1</td>\n",
       "      <td>87</td>\n",
       "      <td>No</td>\n",
       "      <td>0</td>\n",
       "      <td>No</td>\n",
       "      <td>southeast</td>\n",
       "      <td>1131.51</td>\n",
       "    </tr>\n",
       "    <tr>\n",
       "      <th>2</th>\n",
       "      <td>38.078652</td>\n",
       "      <td>male</td>\n",
       "      <td>33.3</td>\n",
       "      <td>82</td>\n",
       "      <td>Yes</td>\n",
       "      <td>0</td>\n",
       "      <td>No</td>\n",
       "      <td>southeast</td>\n",
       "      <td>1135.94</td>\n",
       "    </tr>\n",
       "    <tr>\n",
       "      <th>3</th>\n",
       "      <td>38.078652</td>\n",
       "      <td>male</td>\n",
       "      <td>33.7</td>\n",
       "      <td>80</td>\n",
       "      <td>No</td>\n",
       "      <td>0</td>\n",
       "      <td>No</td>\n",
       "      <td>northwest</td>\n",
       "      <td>1136.40</td>\n",
       "    </tr>\n",
       "    <tr>\n",
       "      <th>4</th>\n",
       "      <td>38.078652</td>\n",
       "      <td>male</td>\n",
       "      <td>34.1</td>\n",
       "      <td>100</td>\n",
       "      <td>No</td>\n",
       "      <td>0</td>\n",
       "      <td>No</td>\n",
       "      <td>northwest</td>\n",
       "      <td>1137.01</td>\n",
       "    </tr>\n",
       "  </tbody>\n",
       "</table>\n",
       "</div>"
      ],
      "text/plain": [
       "         age gender   bmi  bloodpressure diabetic  children smoker     region  \\\n",
       "0  39.000000   male  23.2             91      Yes         0     No  southeast   \n",
       "1  24.000000   male  30.1             87       No         0     No  southeast   \n",
       "2  38.078652   male  33.3             82      Yes         0     No  southeast   \n",
       "3  38.078652   male  33.7             80       No         0     No  northwest   \n",
       "4  38.078652   male  34.1            100       No         0     No  northwest   \n",
       "\n",
       "     claim  \n",
       "0  1121.87  \n",
       "1  1131.51  \n",
       "2  1135.94  \n",
       "3  1136.40  \n",
       "4  1137.01  "
      ]
     },
     "execution_count": 45,
     "metadata": {},
     "output_type": "execute_result"
    }
   ],
   "source": [
    "df[\"age\"] = df[\"age\"].fillna(np.mean(df[\"age\"])) #put age mean value for null age values\n",
    "df.head() #show dataset again"
   ]
  },
  {
   "cell_type": "code",
   "execution_count": 46,
   "id": "e47137bf-701d-42c1-bca0-edc633c46e7f",
   "metadata": {},
   "outputs": [
    {
     "data": {
      "text/plain": [
       "count    1340.000000\n",
       "mean       38.078652\n",
       "std        11.082175\n",
       "min        18.000000\n",
       "25%        29.000000\n",
       "50%        38.000000\n",
       "75%        47.000000\n",
       "max        60.000000\n",
       "Name: age, dtype: float64"
      ]
     },
     "execution_count": 46,
     "metadata": {},
     "output_type": "execute_result"
    }
   ],
   "source": [
    "df['age'].describe()"
   ]
  },
  {
   "cell_type": "code",
   "execution_count": 47,
   "id": "852d2710-ce48-4d74-ab5f-f900a6db9cb9",
   "metadata": {},
   "outputs": [
    {
     "data": {
      "text/plain": [
       "<seaborn.axisgrid.FacetGrid at 0x1e28cb4ed90>"
      ]
     },
     "execution_count": 47,
     "metadata": {},
     "output_type": "execute_result"
    },
    {
     "data": {
      "image/png": "[encoded data removed]",
      "text/plain": [
       "<Figure size 500x500 with 1 Axes>"
      ]
     },
     "metadata": {},
     "output_type": "display_data"
    }
   ],
   "source": [
    "import seaborn as sns\n",
    "sns.displot(df['age'],kde=True)"
   ]
  },
  {
   "cell_type": "code",
   "execution_count": 48,
   "id": "754bebe6-a0d5-46fc-af84-bad7f2c4e3f4",
   "metadata": {},
   "outputs": [
    {
     "data": {
      "text/plain": [
       "<Axes: ylabel='count'>"
      ]
     },
     "execution_count": 48,
     "metadata": {},
     "output_type": "execute_result"
    },
    {
     "data": {
      "image/png": "[encoded data removed]",
      "text/plain": [
       "<Figure size 640x480 with 1 Axes>"
      ]
     },
     "metadata": {},
     "output_type": "display_data"
    }
   ],
   "source": [
    "df['gender'].value_counts().plot(kind='pie',autopct='%0.1f%%', colors = ['#3498db','#e582ff'])"
   ]
  },
  {
   "cell_type": "code",
   "execution_count": 49,
   "id": "fdd828b8-ee8b-4c45-8d8c-5605af0ce657",
   "metadata": {},
   "outputs": [
    {
     "data": {
      "image/png": "[encoded data removed]",
      "text/plain": [
       "<Figure size 640x480 with 1 Axes>"
      ]
     },
     "metadata": {},
     "output_type": "display_data"
    }
   ],
   "source": [
    "import matplotlib.pyplot as plt\n",
    "gender_counts = df['gender'].value_counts()\n",
    "plt.bar(gender_counts.index, gender_counts.values, color=['#3498db', '#e582ff'])\n",
    "for index, value in enumerate(gender_counts.values):\n",
    "    plt.text(index, value, str(value), ha='center', va='bottom')\n",
    "plt.xlabel('Gender')\n",
    "plt.ylabel('Count')\n",
    "plt.show()"
   ]
  },
  {
   "cell_type": "code",
   "execution_count": 50,
   "id": "0a936d66-ecfb-48ed-a343-f35fbc74485c",
   "metadata": {},
   "outputs": [
    {
     "data": {
      "text/plain": [
       "<Axes: ylabel='count'>"
      ]
     },
     "execution_count": 50,
     "metadata": {},
     "output_type": "execute_result"
    },
    {
     "data": {
      "image/png": "[encoded data removed]",
      "text/plain": [
       "<Figure size 640x480 with 1 Axes>"
      ]
     },
     "metadata": {},
     "output_type": "display_data"
    }
   ],
   "source": [
    "df['smoker'].value_counts().plot(kind='pie',autopct='%0.1f%%', colors = ['#64e94a','#e94a4a'])"
   ]
  },
  {
   "cell_type": "code",
   "execution_count": 51,
   "id": "dd302591-55cd-48e4-a153-be6c54d1aa0b",
   "metadata": {},
   "outputs": [
    {
     "data": {
      "image/png": "[encoded data removed]",
      "text/plain": [
       "<Figure size 640x480 with 1 Axes>"
      ]
     },
     "metadata": {},
     "output_type": "display_data"
    }
   ],
   "source": [
    "smoker_counts = df['smoker'].value_counts()\n",
    "plt.bar(smoker_counts.index, smoker_counts.values, color=['#64e94a','#e94a4a'])\n",
    "for index, value in enumerate(smoker_counts.values):\n",
    "    plt.text(index, value, str(value), ha='center', va='bottom')\n",
    "plt.xlabel('Smoker')\n",
    "plt.ylabel('Count')\n",
    "plt.show()"
   ]
  },
  {
   "cell_type": "code",
   "execution_count": 52,
   "id": "ec9c6c59-dbb1-49cb-b6dc-aed8aa2c466f",
   "metadata": {},
   "outputs": [
    {
     "data": {
      "image/png": "[encoded data removed]",
      "text/plain": [
       "<Figure size 640x480 with 1 Axes>"
      ]
     },
     "metadata": {},
     "output_type": "display_data"
    }
   ],
   "source": [
    "df['male_smokers'] = (df['gender'] == 'male') & (df['smoker'] == 'Yes')\n",
    "df['female_smokers'] = (df['gender'] == 'female') & (df['smoker'] == 'Yes')\n",
    "\n",
    "#count the number of male and female smokers\n",
    "male_smoker_count = df['male_smokers'].sum()\n",
    "female_smoker_count = df['female_smokers'].sum()\n",
    "\n",
    "labels = ['Male Smokers', 'Female Smokers']\n",
    "sizes = [male_smoker_count, female_smoker_count]\n",
    "plt.pie(sizes, labels=labels, autopct='%1.1f%%', colors=['#3498db','#e582ff'])\n",
    "plt.title('Male vs Female Smokers')\n",
    "plt.show()"
   ]
  },
  {
   "cell_type": "code",
   "execution_count": 53,
   "id": "c6dae34c-e37c-43d1-922c-59b1c695c8a9",
   "metadata": {},
   "outputs": [
    {
     "data": {
      "image/png": "[encoded data removed]",
      "text/plain": [
       "<Figure size 640x480 with 1 Axes>"
      ]
     },
     "metadata": {},
     "output_type": "display_data"
    }
   ],
   "source": [
    "labels = ['Male Smokers', 'Female Smokers']\n",
    "counts = [male_smoker_count, female_smoker_count]\n",
    "plt.bar(labels, counts, color=['#3498db', '#e582ff'])\n",
    "for i, count in enumerate(counts):\n",
    "    plt.text(i, count + 0.1, str(count), ha='center', va='bottom')\n",
    "plt.title('Number of Male and Female Smokers')\n",
    "plt.xlabel('Gender')\n",
    "plt.ylabel('Count')\n",
    "plt.show()"
   ]
  },
  {
   "cell_type": "code",
   "execution_count": 54,
   "id": "05be3825-8599-47f7-842f-233983b98722",
   "metadata": {},
   "outputs": [
    {
     "data": {
      "text/plain": [
       "<Axes: ylabel='count'>"
      ]
     },
     "execution_count": 54,
     "metadata": {},
     "output_type": "execute_result"
    },
    {
     "data": {
      "image/png": "[encoded data removed]",
      "text/plain": [
       "<Figure size 640x480 with 1 Axes>"
      ]
     },
     "metadata": {},
     "output_type": "display_data"
    }
   ],
   "source": [
    "df['diabetic'].value_counts().plot(kind='pie',autopct='%0.1f%%', colors=['#64e94a','#e94a4a'])"
   ]
  },
  {
   "cell_type": "code",
   "execution_count": 55,
   "id": "f2adb910-8c0c-4fd2-88da-bbdf46b50171",
   "metadata": {},
   "outputs": [
    {
     "data": {
      "image/png": "[encoded data removed]",
      "text/plain": [
       "<Figure size 640x480 with 1 Axes>"
      ]
     },
     "metadata": {},
     "output_type": "display_data"
    }
   ],
   "source": [
    "diabete_counts = df['diabetic'].value_counts()\n",
    "plt.bar(diabete_counts.index, diabete_counts.values, color=['#64e94a','#e94a4a'])\n",
    "for index, value in enumerate(diabete_counts.values):\n",
    "    plt.text(index, value, str(value), ha='center', va='bottom')\n",
    "plt.xlabel('Diabetic')\n",
    "plt.ylabel('Count')\n",
    "plt.show()"
   ]
  },
  {
   "cell_type": "code",
   "execution_count": 56,
   "id": "5777cdfa-724a-4686-8d4c-2783f037f3f8",
   "metadata": {},
   "outputs": [
    {
     "data": {
      "image/png": "[encoded data removed]",
      "text/plain": [
       "<Figure size 640x480 with 1 Axes>"
      ]
     },
     "metadata": {},
     "output_type": "display_data"
    }
   ],
   "source": [
    "df['male_with_diabete'] = (df['gender'] == 'male') & (df['diabetic'] == 'Yes')\n",
    "df['female_with_diabete'] = (df['gender'] == 'female') & (df['diabetic'] == 'Yes')\n",
    "\n",
    "#count the number of male and female with diabete\n",
    "diabetic_male_count = df['male_with_diabete'].sum()\n",
    "diabetic_female_count = df['female_with_diabete'].sum()\n",
    "\n",
    "labels = ['Male with Diabete', 'Female with Diabete']\n",
    "sizes = [diabetic_male_count, diabetic_female_count]\n",
    "plt.pie(sizes, labels=labels, autopct='%1.1f%%', colors=['#3498db','#e582ff'])\n",
    "plt.title('Male vs Female with Diabete')\n",
    "plt.show()"
   ]
  },
  {
   "cell_type": "code",
   "execution_count": 57,
   "id": "2f5f4a60-e5df-453c-a68a-00125ffa5516",
   "metadata": {},
   "outputs": [
    {
     "data": {
      "image/png": "[encoded data removed]",
      "text/plain": [
       "<Figure size 640x480 with 1 Axes>"
      ]
     },
     "metadata": {},
     "output_type": "display_data"
    }
   ],
   "source": [
    "labels = ['Male with Diabete', 'Female with Diabete']\n",
    "counts = [diabetic_male_count, diabetic_female_count]\n",
    "plt.bar(labels, counts, color=['#3498db','#e582ff'])\n",
    "for i, count in enumerate(counts):\n",
    "    plt.text(i, count + 0.1, str(count), ha='center', va='bottom')\n",
    "plt.title('Number of Male and Female with Diabete')\n",
    "plt.xlabel('Gender')\n",
    "plt.ylabel('Count')\n",
    "plt.show()"
   ]
  },
  {
   "cell_type": "code",
   "execution_count": 58,
   "id": "c611732e-c463-4a4a-ad61-a4d91db31f88",
   "metadata": {},
   "outputs": [
    {
     "data": {
      "text/plain": [
       "<seaborn.axisgrid.FacetGrid at 0x1e28cfaca90>"
      ]
     },
     "execution_count": 58,
     "metadata": {},
     "output_type": "execute_result"
    },
    {
     "data": {
      "image/png": "[encoded data removed]",
      "text/plain": [
       "<Figure size 500x500 with 1 Axes>"
      ]
     },
     "metadata": {},
     "output_type": "display_data"
    }
   ],
   "source": [
    "sns.displot(df['claim'],kde=True)"
   ]
  },
  {
   "cell_type": "code",
   "execution_count": 59,
   "id": "22c0ddb3-1c06-46e2-ab92-5a82db59ab0e",
   "metadata": {},
   "outputs": [
    {
     "data": {
      "text/plain": [
       "age                    0\n",
       "gender                 0\n",
       "bmi                    0\n",
       "bloodpressure          0\n",
       "diabetic               0\n",
       "children               0\n",
       "smoker                 0\n",
       "region                 3\n",
       "claim                  0\n",
       "male_smokers           0\n",
       "female_smokers         0\n",
       "male_with_diabete      0\n",
       "female_with_diabete    0\n",
       "dtype: int64"
      ]
     },
     "execution_count": 59,
     "metadata": {},
     "output_type": "execute_result"
    }
   ],
   "source": [
    "df.isnull().sum() #check columns that has null values"
   ]
  },
  {
   "cell_type": "code",
   "execution_count": 60,
   "id": "68b96f62-2aa6-4d0f-9c17-04fb97df35bf",
   "metadata": {},
   "outputs": [
    {
     "name": "stdout",
     "output_type": "stream",
     "text": [
      "<class 'pandas.core.frame.DataFrame'>\n",
      "RangeIndex: 1340 entries, 0 to 1339\n",
      "Data columns (total 13 columns):\n",
      " #   Column               Non-Null Count  Dtype  \n",
      "---  ------               --------------  -----  \n",
      " 0   age                  1340 non-null   float64\n",
      " 1   gender               1340 non-null   object \n",
      " 2   bmi                  1340 non-null   float64\n",
      " 3   bloodpressure        1340 non-null   int64  \n",
      " 4   diabetic             1340 non-null   object \n",
      " 5   children             1340 non-null   int64  \n",
      " 6   smoker               1340 non-null   object \n",
      " 7   region               1337 non-null   object \n",
      " 8   claim                1340 non-null   float64\n",
      " 9   male_smokers         1340 non-null   bool   \n",
      " 10  female_smokers       1340 non-null   bool   \n",
      " 11  male_with_diabete    1340 non-null   bool   \n",
      " 12  female_with_diabete  1340 non-null   bool   \n",
      "dtypes: bool(4), float64(3), int64(2), object(4)\n",
      "memory usage: 99.6+ KB\n"
     ]
    }
   ],
   "source": [
    "df.info() #check data types"
   ]
  },
  {
   "cell_type": "code",
   "execution_count": 61,
   "id": "8ccc07d4-8130-4e70-a439-3e6540dd5018",
   "metadata": {},
   "outputs": [
    {
     "data": {
      "text/plain": [
       "1.6335820895522388"
      ]
     },
     "execution_count": 61,
     "metadata": {},
     "output_type": "execute_result"
    }
   ],
   "source": [
    "from sklearn.preprocessing import LabelEncoder #to convert object values to int32\n",
    "df[\"region\"] = LabelEncoder().fit_transform(df[\"region\"]) #first need to convert region object value to int32\n",
    "np.mean(df[\"region\"]) #then check mean value for region"
   ]
  },
  {
   "cell_type": "code",
   "execution_count": 63,
   "id": "ad9e87fb-125a-49f7-a77e-e612d2b2bb3f",
   "metadata": {},
   "outputs": [
    {
     "data": {
      "text/html": [
       "<div>\n",
       "<style scoped>\n",
       "    .dataframe tbody tr th:only-of-type {\n",
       "        vertical-align: middle;\n",
       "    }\n",
       "\n",
       "    .dataframe tbody tr th {\n",
       "        vertical-align: top;\n",
       "    }\n",
       "\n",
       "    .dataframe thead th {\n",
       "        text-align: right;\n",
       "    }\n",
       "</style>\n",
       "<table border=\"1\" class=\"dataframe\">\n",
       "  <thead>\n",
       "    <tr style=\"text-align: right;\">\n",
       "      <th></th>\n",
       "      <th>age</th>\n",
       "      <th>gender</th>\n",
       "      <th>bmi</th>\n",
       "      <th>bloodpressure</th>\n",
       "      <th>diabetic</th>\n",
       "      <th>children</th>\n",
       "      <th>smoker</th>\n",
       "      <th>region</th>\n",
       "      <th>claim</th>\n",
       "      <th>male_smokers</th>\n",
       "      <th>female_smokers</th>\n",
       "      <th>male_with_diabete</th>\n",
       "      <th>female_with_diabete</th>\n",
       "    </tr>\n",
       "  </thead>\n",
       "  <tbody>\n",
       "    <tr>\n",
       "      <th>0</th>\n",
       "      <td>39.000000</td>\n",
       "      <td>male</td>\n",
       "      <td>23.2</td>\n",
       "      <td>91</td>\n",
       "      <td>Yes</td>\n",
       "      <td>0</td>\n",
       "      <td>No</td>\n",
       "      <td>2</td>\n",
       "      <td>1121.87</td>\n",
       "      <td>False</td>\n",
       "      <td>False</td>\n",
       "      <td>True</td>\n",
       "      <td>False</td>\n",
       "    </tr>\n",
       "    <tr>\n",
       "      <th>1</th>\n",
       "      <td>24.000000</td>\n",
       "      <td>male</td>\n",
       "      <td>30.1</td>\n",
       "      <td>87</td>\n",
       "      <td>No</td>\n",
       "      <td>0</td>\n",
       "      <td>No</td>\n",
       "      <td>2</td>\n",
       "      <td>1131.51</td>\n",
       "      <td>False</td>\n",
       "      <td>False</td>\n",
       "      <td>False</td>\n",
       "      <td>False</td>\n",
       "    </tr>\n",
       "    <tr>\n",
       "      <th>2</th>\n",
       "      <td>38.078652</td>\n",
       "      <td>male</td>\n",
       "      <td>33.3</td>\n",
       "      <td>82</td>\n",
       "      <td>Yes</td>\n",
       "      <td>0</td>\n",
       "      <td>No</td>\n",
       "      <td>2</td>\n",
       "      <td>1135.94</td>\n",
       "      <td>False</td>\n",
       "      <td>False</td>\n",
       "      <td>True</td>\n",
       "      <td>False</td>\n",
       "    </tr>\n",
       "    <tr>\n",
       "      <th>3</th>\n",
       "      <td>38.078652</td>\n",
       "      <td>male</td>\n",
       "      <td>33.7</td>\n",
       "      <td>80</td>\n",
       "      <td>No</td>\n",
       "      <td>0</td>\n",
       "      <td>No</td>\n",
       "      <td>1</td>\n",
       "      <td>1136.40</td>\n",
       "      <td>False</td>\n",
       "      <td>False</td>\n",
       "      <td>False</td>\n",
       "      <td>False</td>\n",
       "    </tr>\n",
       "    <tr>\n",
       "      <th>4</th>\n",
       "      <td>38.078652</td>\n",
       "      <td>male</td>\n",
       "      <td>34.1</td>\n",
       "      <td>100</td>\n",
       "      <td>No</td>\n",
       "      <td>0</td>\n",
       "      <td>No</td>\n",
       "      <td>1</td>\n",
       "      <td>1137.01</td>\n",
       "      <td>False</td>\n",
       "      <td>False</td>\n",
       "      <td>False</td>\n",
       "      <td>False</td>\n",
       "    </tr>\n",
       "  </tbody>\n",
       "</table>\n",
       "</div>"
      ],
      "text/plain": [
       "         age gender   bmi  bloodpressure diabetic  children smoker  region  \\\n",
       "0  39.000000   male  23.2             91      Yes         0     No       2   \n",
       "1  24.000000   male  30.1             87       No         0     No       2   \n",
       "2  38.078652   male  33.3             82      Yes         0     No       2   \n",
       "3  38.078652   male  33.7             80       No         0     No       1   \n",
       "4  38.078652   male  34.1            100       No         0     No       1   \n",
       "\n",
       "     claim  male_smokers  female_smokers  male_with_diabete  \\\n",
       "0  1121.87         False           False               True   \n",
       "1  1131.51         False           False              False   \n",
       "2  1135.94         False           False               True   \n",
       "3  1136.40         False           False              False   \n",
       "4  1137.01         False           False              False   \n",
       "\n",
       "   female_with_diabete  \n",
       "0                False  \n",
       "1                False  \n",
       "2                False  \n",
       "3                False  \n",
       "4                False  "
      ]
     },
     "execution_count": 63,
     "metadata": {},
     "output_type": "execute_result"
    }
   ],
   "source": [
    "df[\"region\"] = df[\"region\"].fillna(2) #put value 2 for null region values\n",
    "df.head() #show dataset again"
   ]
  },
  {
   "cell_type": "code",
   "execution_count": 64,
   "id": "c5e0a4c9-9da6-4bd9-80a4-1bb42e3cc186",
   "metadata": {},
   "outputs": [
    {
     "data": {
      "text/html": [
       "<div>\n",
       "<style scoped>\n",
       "    .dataframe tbody tr th:only-of-type {\n",
       "        vertical-align: middle;\n",
       "    }\n",
       "\n",
       "    .dataframe tbody tr th {\n",
       "        vertical-align: top;\n",
       "    }\n",
       "\n",
       "    .dataframe thead th {\n",
       "        text-align: right;\n",
       "    }\n",
       "</style>\n",
       "<table border=\"1\" class=\"dataframe\">\n",
       "  <thead>\n",
       "    <tr style=\"text-align: right;\">\n",
       "      <th></th>\n",
       "      <th>age</th>\n",
       "      <th>gender</th>\n",
       "      <th>bmi</th>\n",
       "      <th>bloodpressure</th>\n",
       "      <th>diabetic</th>\n",
       "      <th>children</th>\n",
       "      <th>smoker</th>\n",
       "      <th>region</th>\n",
       "      <th>claim</th>\n",
       "      <th>male_smokers</th>\n",
       "      <th>female_smokers</th>\n",
       "      <th>male_with_diabete</th>\n",
       "      <th>female_with_diabete</th>\n",
       "      <th>will_claim</th>\n",
       "    </tr>\n",
       "  </thead>\n",
       "  <tbody>\n",
       "    <tr>\n",
       "      <th>0</th>\n",
       "      <td>39.000000</td>\n",
       "      <td>male</td>\n",
       "      <td>23.2</td>\n",
       "      <td>91</td>\n",
       "      <td>Yes</td>\n",
       "      <td>0</td>\n",
       "      <td>No</td>\n",
       "      <td>2</td>\n",
       "      <td>1121.87</td>\n",
       "      <td>False</td>\n",
       "      <td>False</td>\n",
       "      <td>True</td>\n",
       "      <td>False</td>\n",
       "      <td>No</td>\n",
       "    </tr>\n",
       "    <tr>\n",
       "      <th>1</th>\n",
       "      <td>24.000000</td>\n",
       "      <td>male</td>\n",
       "      <td>30.1</td>\n",
       "      <td>87</td>\n",
       "      <td>No</td>\n",
       "      <td>0</td>\n",
       "      <td>No</td>\n",
       "      <td>2</td>\n",
       "      <td>1131.51</td>\n",
       "      <td>False</td>\n",
       "      <td>False</td>\n",
       "      <td>False</td>\n",
       "      <td>False</td>\n",
       "      <td>Yes</td>\n",
       "    </tr>\n",
       "    <tr>\n",
       "      <th>2</th>\n",
       "      <td>38.078652</td>\n",
       "      <td>male</td>\n",
       "      <td>33.3</td>\n",
       "      <td>82</td>\n",
       "      <td>Yes</td>\n",
       "      <td>0</td>\n",
       "      <td>No</td>\n",
       "      <td>2</td>\n",
       "      <td>1135.94</td>\n",
       "      <td>False</td>\n",
       "      <td>False</td>\n",
       "      <td>True</td>\n",
       "      <td>False</td>\n",
       "      <td>Yes</td>\n",
       "    </tr>\n",
       "    <tr>\n",
       "      <th>3</th>\n",
       "      <td>38.078652</td>\n",
       "      <td>male</td>\n",
       "      <td>33.7</td>\n",
       "      <td>80</td>\n",
       "      <td>No</td>\n",
       "      <td>0</td>\n",
       "      <td>No</td>\n",
       "      <td>1</td>\n",
       "      <td>1136.40</td>\n",
       "      <td>False</td>\n",
       "      <td>False</td>\n",
       "      <td>False</td>\n",
       "      <td>False</td>\n",
       "      <td>No</td>\n",
       "    </tr>\n",
       "    <tr>\n",
       "      <th>4</th>\n",
       "      <td>38.078652</td>\n",
       "      <td>male</td>\n",
       "      <td>34.1</td>\n",
       "      <td>100</td>\n",
       "      <td>No</td>\n",
       "      <td>0</td>\n",
       "      <td>No</td>\n",
       "      <td>1</td>\n",
       "      <td>1137.01</td>\n",
       "      <td>False</td>\n",
       "      <td>False</td>\n",
       "      <td>False</td>\n",
       "      <td>False</td>\n",
       "      <td>No</td>\n",
       "    </tr>\n",
       "  </tbody>\n",
       "</table>\n",
       "</div>"
      ],
      "text/plain": [
       "         age gender   bmi  bloodpressure diabetic  children smoker  region  \\\n",
       "0  39.000000   male  23.2             91      Yes         0     No       2   \n",
       "1  24.000000   male  30.1             87       No         0     No       2   \n",
       "2  38.078652   male  33.3             82      Yes         0     No       2   \n",
       "3  38.078652   male  33.7             80       No         0     No       1   \n",
       "4  38.078652   male  34.1            100       No         0     No       1   \n",
       "\n",
       "     claim  male_smokers  female_smokers  male_with_diabete  \\\n",
       "0  1121.87         False           False               True   \n",
       "1  1131.51         False           False              False   \n",
       "2  1135.94         False           False               True   \n",
       "3  1136.40         False           False              False   \n",
       "4  1137.01         False           False              False   \n",
       "\n",
       "   female_with_diabete will_claim  \n",
       "0                False         No  \n",
       "1                False        Yes  \n",
       "2                False        Yes  \n",
       "3                False         No  \n",
       "4                False         No  "
      ]
     },
     "execution_count": 64,
     "metadata": {},
     "output_type": "execute_result"
    }
   ],
   "source": [
    "random_bools = np.random.choice([True, False], size=len(df))\n",
    "df['will_claim'] = random_bools\n",
    "df['will_claim'] = df['will_claim'].replace({True: 'Yes', False: 'No'})\n",
    "df.head() #show dataset again"
   ]
  },
  {
   "cell_type": "code",
   "execution_count": 65,
   "id": "c4fb89b1-bf91-4c99-9b10-12eb65f8a5c8",
   "metadata": {},
   "outputs": [
    {
     "data": {
      "text/plain": [
       "age                    0\n",
       "gender                 0\n",
       "bmi                    0\n",
       "bloodpressure          0\n",
       "diabetic               0\n",
       "children               0\n",
       "smoker                 0\n",
       "region                 0\n",
       "claim                  0\n",
       "male_smokers           0\n",
       "female_smokers         0\n",
       "male_with_diabete      0\n",
       "female_with_diabete    0\n",
       "will_claim             0\n",
       "dtype: int64"
      ]
     },
     "execution_count": 65,
     "metadata": {},
     "output_type": "execute_result"
    }
   ],
   "source": [
    "df.isnull().sum() #check columns again if any has null values"
   ]
  },
  {
   "cell_type": "code",
   "execution_count": 66,
   "id": "07d4ba63-0586-4278-bc53-91d8389b6743",
   "metadata": {},
   "outputs": [
    {
     "name": "stdout",
     "output_type": "stream",
     "text": [
      "<class 'pandas.core.frame.DataFrame'>\n",
      "RangeIndex: 1340 entries, 0 to 1339\n",
      "Data columns (total 14 columns):\n",
      " #   Column               Non-Null Count  Dtype  \n",
      "---  ------               --------------  -----  \n",
      " 0   age                  1340 non-null   float64\n",
      " 1   gender               1340 non-null   object \n",
      " 2   bmi                  1340 non-null   float64\n",
      " 3   bloodpressure        1340 non-null   int64  \n",
      " 4   diabetic             1340 non-null   object \n",
      " 5   children             1340 non-null   int64  \n",
      " 6   smoker               1340 non-null   object \n",
      " 7   region               1340 non-null   int32  \n",
      " 8   claim                1340 non-null   float64\n",
      " 9   male_smokers         1340 non-null   bool   \n",
      " 10  female_smokers       1340 non-null   bool   \n",
      " 11  male_with_diabete    1340 non-null   bool   \n",
      " 12  female_with_diabete  1340 non-null   bool   \n",
      " 13  will_claim           1340 non-null   object \n",
      "dtypes: bool(4), float64(3), int32(1), int64(2), object(4)\n",
      "memory usage: 104.8+ KB\n"
     ]
    }
   ],
   "source": [
    "df.info() #check data types again"
   ]
  },
  {
   "cell_type": "code",
   "execution_count": 67,
   "id": "85e29961-439d-4eb1-9617-dc9e1a12d5fd",
   "metadata": {},
   "outputs": [
    {
     "data": {
      "text/html": [
       "<div>\n",
       "<style scoped>\n",
       "    .dataframe tbody tr th:only-of-type {\n",
       "        vertical-align: middle;\n",
       "    }\n",
       "\n",
       "    .dataframe tbody tr th {\n",
       "        vertical-align: top;\n",
       "    }\n",
       "\n",
       "    .dataframe thead th {\n",
       "        text-align: right;\n",
       "    }\n",
       "</style>\n",
       "<table border=\"1\" class=\"dataframe\">\n",
       "  <thead>\n",
       "    <tr style=\"text-align: right;\">\n",
       "      <th></th>\n",
       "      <th>age</th>\n",
       "      <th>gender</th>\n",
       "      <th>bmi</th>\n",
       "      <th>bloodpressure</th>\n",
       "      <th>diabetic</th>\n",
       "      <th>children</th>\n",
       "      <th>smoker</th>\n",
       "      <th>region</th>\n",
       "      <th>claim</th>\n",
       "      <th>male_smokers</th>\n",
       "      <th>female_smokers</th>\n",
       "      <th>male_with_diabete</th>\n",
       "      <th>female_with_diabete</th>\n",
       "      <th>will_claim</th>\n",
       "    </tr>\n",
       "  </thead>\n",
       "  <tbody>\n",
       "    <tr>\n",
       "      <th>0</th>\n",
       "      <td>39.000000</td>\n",
       "      <td>1</td>\n",
       "      <td>23.2</td>\n",
       "      <td>91</td>\n",
       "      <td>1</td>\n",
       "      <td>0</td>\n",
       "      <td>0</td>\n",
       "      <td>2</td>\n",
       "      <td>1121.87</td>\n",
       "      <td>0</td>\n",
       "      <td>0</td>\n",
       "      <td>1</td>\n",
       "      <td>0</td>\n",
       "      <td>0</td>\n",
       "    </tr>\n",
       "    <tr>\n",
       "      <th>1</th>\n",
       "      <td>24.000000</td>\n",
       "      <td>1</td>\n",
       "      <td>30.1</td>\n",
       "      <td>87</td>\n",
       "      <td>0</td>\n",
       "      <td>0</td>\n",
       "      <td>0</td>\n",
       "      <td>2</td>\n",
       "      <td>1131.51</td>\n",
       "      <td>0</td>\n",
       "      <td>0</td>\n",
       "      <td>0</td>\n",
       "      <td>0</td>\n",
       "      <td>1</td>\n",
       "    </tr>\n",
       "    <tr>\n",
       "      <th>2</th>\n",
       "      <td>38.078652</td>\n",
       "      <td>1</td>\n",
       "      <td>33.3</td>\n",
       "      <td>82</td>\n",
       "      <td>1</td>\n",
       "      <td>0</td>\n",
       "      <td>0</td>\n",
       "      <td>2</td>\n",
       "      <td>1135.94</td>\n",
       "      <td>0</td>\n",
       "      <td>0</td>\n",
       "      <td>1</td>\n",
       "      <td>0</td>\n",
       "      <td>1</td>\n",
       "    </tr>\n",
       "    <tr>\n",
       "      <th>3</th>\n",
       "      <td>38.078652</td>\n",
       "      <td>1</td>\n",
       "      <td>33.7</td>\n",
       "      <td>80</td>\n",
       "      <td>0</td>\n",
       "      <td>0</td>\n",
       "      <td>0</td>\n",
       "      <td>1</td>\n",
       "      <td>1136.40</td>\n",
       "      <td>0</td>\n",
       "      <td>0</td>\n",
       "      <td>0</td>\n",
       "      <td>0</td>\n",
       "      <td>0</td>\n",
       "    </tr>\n",
       "    <tr>\n",
       "      <th>4</th>\n",
       "      <td>38.078652</td>\n",
       "      <td>1</td>\n",
       "      <td>34.1</td>\n",
       "      <td>100</td>\n",
       "      <td>0</td>\n",
       "      <td>0</td>\n",
       "      <td>0</td>\n",
       "      <td>1</td>\n",
       "      <td>1137.01</td>\n",
       "      <td>0</td>\n",
       "      <td>0</td>\n",
       "      <td>0</td>\n",
       "      <td>0</td>\n",
       "      <td>0</td>\n",
       "    </tr>\n",
       "  </tbody>\n",
       "</table>\n",
       "</div>"
      ],
      "text/plain": [
       "         age  gender   bmi  bloodpressure  diabetic  children  smoker  region  \\\n",
       "0  39.000000       1  23.2             91         1         0       0       2   \n",
       "1  24.000000       1  30.1             87         0         0       0       2   \n",
       "2  38.078652       1  33.3             82         1         0       0       2   \n",
       "3  38.078652       1  33.7             80         0         0       0       1   \n",
       "4  38.078652       1  34.1            100         0         0       0       1   \n",
       "\n",
       "     claim  male_smokers  female_smokers  male_with_diabete  \\\n",
       "0  1121.87             0               0                  1   \n",
       "1  1131.51             0               0                  0   \n",
       "2  1135.94             0               0                  1   \n",
       "3  1136.40             0               0                  0   \n",
       "4  1137.01             0               0                  0   \n",
       "\n",
       "   female_with_diabete  will_claim  \n",
       "0                    0           0  \n",
       "1                    0           1  \n",
       "2                    0           1  \n",
       "3                    0           0  \n",
       "4                    0           0  "
      ]
     },
     "execution_count": 67,
     "metadata": {},
     "output_type": "execute_result"
    }
   ],
   "source": [
    "#convert remaining object and boolean data types to int64 for traning models\n",
    "df[\"gender\"] = LabelEncoder().fit_transform(df[\"gender\"])\n",
    "df[\"diabetic\"] = LabelEncoder().fit_transform(df[\"diabetic\"])\n",
    "df[\"smoker\"] = LabelEncoder().fit_transform(df[\"smoker\"])\n",
    "df[\"male_smokers\"] = LabelEncoder().fit_transform(df[\"male_smokers\"])\n",
    "df[\"female_smokers\"] = LabelEncoder().fit_transform(df[\"female_smokers\"])\n",
    "df[\"male_with_diabete\"] = LabelEncoder().fit_transform(df[\"male_with_diabete\"])\n",
    "df[\"female_with_diabete\"] = LabelEncoder().fit_transform(df[\"female_with_diabete\"])\n",
    "df[\"will_claim\"] = LabelEncoder().fit_transform(df[\"will_claim\"])\n",
    "df.head() #show dataset again"
   ]
  },
  {
   "cell_type": "code",
   "execution_count": 68,
   "id": "9230cc8f-af83-4ea9-a9ff-672e28dff3b7",
   "metadata": {},
   "outputs": [
    {
     "name": "stdout",
     "output_type": "stream",
     "text": [
      "<class 'pandas.core.frame.DataFrame'>\n",
      "RangeIndex: 1340 entries, 0 to 1339\n",
      "Data columns (total 14 columns):\n",
      " #   Column               Non-Null Count  Dtype  \n",
      "---  ------               --------------  -----  \n",
      " 0   age                  1340 non-null   float64\n",
      " 1   gender               1340 non-null   int32  \n",
      " 2   bmi                  1340 non-null   float64\n",
      " 3   bloodpressure        1340 non-null   int64  \n",
      " 4   diabetic             1340 non-null   int32  \n",
      " 5   children             1340 non-null   int64  \n",
      " 6   smoker               1340 non-null   int32  \n",
      " 7   region               1340 non-null   int32  \n",
      " 8   claim                1340 non-null   float64\n",
      " 9   male_smokers         1340 non-null   int64  \n",
      " 10  female_smokers       1340 non-null   int64  \n",
      " 11  male_with_diabete    1340 non-null   int64  \n",
      " 12  female_with_diabete  1340 non-null   int64  \n",
      " 13  will_claim           1340 non-null   int32  \n",
      "dtypes: float64(3), int32(5), int64(6)\n",
      "memory usage: 120.5 KB\n"
     ]
    }
   ],
   "source": [
    "df.info() #check data types again"
   ]
  },
  {
   "cell_type": "code",
   "execution_count": 88,
   "id": "d00780d4-88a6-4ca5-a4a9-6aa0da0b3121",
   "metadata": {},
   "outputs": [
    {
     "name": "stdout",
     "output_type": "stream",
     "text": [
      "Average Cross-Validation Accuracy: 0.49925373134328355\n",
      "Test Set Accuracy: 0.5199004975124378\n"
     ]
    }
   ],
   "source": [
    "from sklearn.model_selection import train_test_split\n",
    "from sklearn.preprocessing import StandardScaler\n",
    "from sklearn.linear_model import LogisticRegression\n",
    "from sklearn.metrics import accuracy_score, confusion_matrix, classification_report\n",
    "from sklearn.model_selection import cross_val_score\n",
    "\n",
    "#setting the target variable\n",
    "X = df.drop('will_claim', axis=1)\n",
    "y = df['will_claim']\n",
    "\n",
    "#data splitting\n",
    "X_train, X_test, y_train, y_test = train_test_split(X, y, test_size=0.30, random_state=1)\n",
    "\n",
    "#creating logistic regression model\n",
    "#creating the logistic regression model with a regularization parameter\n",
    "model = LogisticRegression(max_iter=1000, C=0.5)\n",
    "\n",
    "#training the model with training data\n",
    "model.fit(X_train, y_train)\n",
    "\n",
    "#cross-calidation\n",
    "cv_scores = cross_val_score(model, X, y, cv=5)\n",
    "average_cv_accuracy = np.mean(cv_scores)\n",
    "print(f\"Average Cross-Validation Accuracy: {average_cv_accuracy}\")\n",
    "\n",
    "#evaluating the model on the test set\n",
    "y_pred = model.predict(X_test)\n",
    "accuracy = model.score(X_test, y_test)\n",
    "print(f\"Test Set Accuracy: {accuracy}\")"
   ]
  },
  {
   "cell_type": "code",
   "execution_count": 89,
   "id": "8f965a4b-9f2a-4fdf-b954-bb29ca1db968",
   "metadata": {},
   "outputs": [
    {
     "data": {
      "image/png": "[encoded data removed]",
      "text/plain": [
       "<Figure size 640x480 with 2 Axes>"
      ]
     },
     "metadata": {},
     "output_type": "display_data"
    }
   ],
   "source": [
    "#confusion matrix for logistic regression model\n",
    "conf_matrix = confusion_matrix(y_test, y_pred)\n",
    "sns.heatmap(conf_matrix, annot=True, fmt='g', cmap='Reds')\n",
    "plt.title('Confusion Matrix')\n",
    "plt.show()"
   ]
  },
  {
   "cell_type": "code",
   "execution_count": 90,
   "id": "82dfe46e-ee05-44ba-9ed2-995d55d6c887",
   "metadata": {},
   "outputs": [
    {
     "name": "stdout",
     "output_type": "stream",
     "text": [
      "              precision    recall  f1-score   support\n",
      "\n",
      "           0       0.57      0.17      0.27       202\n",
      "           1       0.51      0.87      0.64       200\n",
      "\n",
      "    accuracy                           0.52       402\n",
      "   macro avg       0.54      0.52      0.45       402\n",
      "weighted avg       0.54      0.52      0.45       402\n",
      "\n"
     ]
    }
   ],
   "source": [
    "import warnings\n",
    "warnings.filterwarnings('ignore')\n",
    "#classification report for logistic regression\n",
    "print(classification_report(y_test, y_pred))"
   ]
  },
  {
   "cell_type": "code",
   "execution_count": 81,
   "id": "3756428a-b295-4a06-9b0c-d0a101f1e3eb",
   "metadata": {},
   "outputs": [
    {
     "name": "stdout",
     "output_type": "stream",
     "text": [
      "Average Cross-Validation Accuracy: 0.5007462686567165\n",
      "Test Set Accuracy: 0.5024875621890548\n"
     ]
    }
   ],
   "source": [
    "from sklearn.neural_network import MLPClassifier\n",
    "\n",
    "#creating MLPClassifier model\n",
    "mlp_model = MLPClassifier(hidden_layer_sizes=(100,), max_iter=1000, random_state=1)\n",
    "\n",
    "#training the model with training data\n",
    "mlp_model.fit(X_train, y_train)\n",
    "\n",
    "#cross-validation\n",
    "cv_scores = cross_val_score(mlp_model, X, y, cv=5)\n",
    "average_cv_accuracy = np.mean(cv_scores)\n",
    "print(f\"Average Cross-Validation Accuracy: {average_cv_accuracy}\")\n",
    "\n",
    "#evaluating the model on the test set\n",
    "y_pred = mlp_model.predict(X_test)\n",
    "accuracy = mlp_model.score(X_test, y_test)\n",
    "print(f\"Test Set Accuracy: {accuracy}\")"
   ]
  },
  {
   "cell_type": "code",
   "execution_count": 82,
   "id": "8e59c6b4-7bf6-4f34-93fd-1c8fa0bfab59",
   "metadata": {
    "scrolled": true
   },
   "outputs": [
    {
     "data": {
      "image/png": "[encoded data removed]",
      "text/plain": [
       "<Figure size 640x480 with 2 Axes>"
      ]
     },
     "metadata": {},
     "output_type": "display_data"
    }
   ],
   "source": [
    "#confusion matrix for MPClassifier model\n",
    "conf_matrix = confusion_matrix(y_test, y_pred)\n",
    "sns.heatmap(conf_matrix, annot=True, fmt='g', cmap='Reds')\n",
    "plt.title('Confusion Matrix')\n",
    "plt.show()"
   ]
  },
  {
   "cell_type": "code",
   "execution_count": 91,
   "id": "f6449d3e-0f80-44cd-9bd5-6b92c4d9c196",
   "metadata": {},
   "outputs": [
    {
     "name": "stdout",
     "output_type": "stream",
     "text": [
      "              precision    recall  f1-score   support\n",
      "\n",
      "           0       0.57      0.17      0.27       202\n",
      "           1       0.51      0.87      0.64       200\n",
      "\n",
      "    accuracy                           0.52       402\n",
      "   macro avg       0.54      0.52      0.45       402\n",
      "weighted avg       0.54      0.52      0.45       402\n",
      "\n"
     ]
    }
   ],
   "source": [
    "import warnings\n",
    "warnings.filterwarnings('ignore')\n",
    "#classification report for logistic regression\n",
    "print(classification_report(y_test, y_pred))"
   ]
  },
  {
   "cell_type": "code",
   "execution_count": null,
   "id": "230fb6ce-7b88-4213-b33a-330d6eaa1024",
   "metadata": {},
   "outputs": [],
   "source": []
  }
 ],
 "metadata": {
  "kernelspec": {
   "display_name": "Python 3 (ipykernel)",
   "language": "python",
   "name": "python3"
  },
  "language_info": {
   "codemirror_mode": {
    "name": "ipython",
    "version": 3
   },
   "file_extension": ".py",
   "mimetype": "text/x-python",
   "name": "python",
   "nbconvert_exporter": "python",
   "pygments_lexer": "ipython3",
   "version": "3.11.5"
  }
 },
 "nbformat": 4,
 "nbformat_minor": 5
}
